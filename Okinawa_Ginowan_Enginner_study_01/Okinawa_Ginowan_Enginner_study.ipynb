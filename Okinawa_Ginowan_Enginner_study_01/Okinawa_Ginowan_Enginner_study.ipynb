{
 "cells": [
  {
   "cell_type": "markdown",
   "metadata": {
    "slideshow": {
     "slide_type": "slide"
    }
   },
   "source": [
    "# (Keras民のための)はじめてのてんそーふろー"
   ]
  },
  {
   "cell_type": "markdown",
   "metadata": {
    "slideshow": {
     "slide_type": "slide"
    }
   },
   "source": [
    "## TensorFlow UserGroup Okinawaに参加してきた\n",
    "\n",
    "+ Google Cloud ML Specialist yaboo(大藪さん)のセッション\n",
    "\n",
    "<img src=\"./fig/yaboo_talk1.png\" width=1000>"
   ]
  },
  {
   "cell_type": "markdown",
   "metadata": {
    "slideshow": {
     "slide_type": "slide"
    }
   },
   "source": [
    "## でーじ濃ゆいえむにすと\n",
    "+ TensorflowによるLow-levelな実装から、簡単にかけるHigh-levelな実装まで幅広い書き方を紹介してもらった\n",
    "+ 始まる前 -> でた定番のMNIST😆\n",
    "+ トーク終了後 -> Tensorflowすげぇなんやこいつ😱"
   ]
  },
  {
   "cell_type": "markdown",
   "metadata": {
    "slideshow": {
     "slide_type": "slide"
    }
   },
   "source": [
    "## てんそーふろー触ってみたくなった\n",
    "\n",
    "+ しらべてわかったこと\n",
    "    + 「**計算グラフ**」という考え方に基づいてコーディングしていくということ\n",
    "    + セッション(tf.Session)下でグラフを実行して初めて結果が生まれるということ\n",
    "    + 評価指標や最適化関数、分散学習などへの応用も自分で定義していく"
   ]
  },
  {
   "cell_type": "markdown",
   "metadata": {
    "slideshow": {
     "slide_type": "slide"
    }
   },
   "source": [
    "## 計算グラフ？"
   ]
  },
  {
   "cell_type": "markdown",
   "metadata": {
    "slideshow": {
     "slide_type": "slide"
    }
   },
   "source": [
    "## 計算グラフってなんだろな\n",
    "\n",
    "+ 計算グラフとはグラフ理論という数学の理論に基づいた木構造のデータ構造のこと\n",
    "+ **複数のノード(節点)とエッジ(枝)**によって表現される\n",
    "+ 計算グラフで構築すると、通常より手間はかかるけど今後のニューラルネットの計算において大きく活躍する考え方\n",
    "\n",
    "<img src=\"./fig/node_edge.png\">"
   ]
  },
  {
   "cell_type": "markdown",
   "metadata": {
    "slideshow": {
     "slide_type": "slide"
    }
   },
   "source": [
    "## そういえば今日って宜野湾エンジニア勉強会"
   ]
  },
  {
   "cell_type": "code",
   "execution_count": 22,
   "metadata": {
    "slideshow": {
     "slide_type": "skip"
    }
   },
   "outputs": [],
   "source": [
    "# Twitter出力用クラス\n",
    "\n",
    "class Tweet(object):\n",
    "    def __init__(self, embed_str=None):\n",
    "        self.embed_str = embed_str\n",
    "\n",
    "    def _repr_html_(self):\n",
    "        return self.embed_str\n",
    "\n",
    "s1 = (\"\"\"<blockquote class=\"twitter-tweet\" data-partner=\"tweetdeck\"><p lang=\"ja\" dir=\"ltr\">いつもデータ分析とか機械学習中心のLTしていることが多いからだけど、これ良いのか</p>&mdash; Intelさん (@Intel0tw5727) \n",
    "<a href=\"https://twitter.com/Intel0tw5727/status/1016625801612050432?ref_src=twsrc%5Etfw\">July 10, 2018</a></blockquote>\n",
    "<script async src=\"https://platform.twitter.com/widgets.js\" charset=\"utf-8\"></script>\"\"\")"
   ]
  },
  {
   "cell_type": "code",
   "execution_count": 23,
   "metadata": {
    "slideshow": {
     "slide_type": "fragment"
    }
   },
   "outputs": [
    {
     "data": {
      "text/html": [
       "<blockquote class=\"twitter-tweet\" data-partner=\"tweetdeck\"><p lang=\"ja\" dir=\"ltr\">いつもデータ分析とか機械学習中心のLTしていることが多いからだけど、これ良いのか</p>&mdash; Intelさん (@Intel0tw5727) \n",
       "<a href=\"https://twitter.com/Intel0tw5727/status/1016625801612050432?ref_src=twsrc%5Etfw\">July 10, 2018</a></blockquote>\n",
       "<script async src=\"https://platform.twitter.com/widgets.js\" charset=\"utf-8\"></script>"
      ],
      "text/plain": [
       "<__main__.Tweet at 0x10e88fe80>"
      ]
     },
     "execution_count": 23,
     "metadata": {},
     "output_type": "execute_result"
    }
   ],
   "source": [
    "Tweet(s1)"
   ]
  },
  {
   "cell_type": "markdown",
   "metadata": {
    "slideshow": {
     "slide_type": "slide"
    }
   },
   "source": [
    "## というわけで"
   ]
  },
  {
   "cell_type": "markdown",
   "metadata": {
    "slideshow": {
     "slide_type": "slide"
    }
   },
   "source": [
    "# ~~(Keras民のための)はじめてのてんそーふろー~~<br>はじめての計算グラフ"
   ]
  },
  {
   "cell_type": "markdown",
   "metadata": {
    "slideshow": {
     "slide_type": "slide"
    }
   },
   "source": [
    "## TL;DR\n",
    "\n",
    "+ 計算グラフ(木構造)をつかった計算方法を知ってもらう\n",
    "+ 木構造アルゴリズムを計算に活かすことのメリットを知ってもらう"
   ]
  },
  {
   "cell_type": "markdown",
   "metadata": {
    "slideshow": {
     "slide_type": "slide"
    }
   },
   "source": [
    "## 忘れるところだった自己紹介\n",
    "\n",
    "+ 多和田真悟(@Intel0tw5727)\n",
    "    + 琉球大学 工学部 情報工学科 4年次 遠藤研所属\n",
    "    + 専門\n",
    "        + 大学の研究カテゴリ「動画像解析・画像処理・機械学習」\n",
    "        + インターン先では「自然言語処理・データ分析」\n",
    "        + 趣味は「将棋☖・麻雀🀄」\n",
    "    + 参加コミュニティ\n",
    "        + PyData.Okinawa\n",
    "        + PythonBeginners沖縄"
   ]
  },
  {
   "cell_type": "markdown",
   "metadata": {
    "slideshow": {
     "slide_type": "slide"
    }
   },
   "source": [
    "# 計算グラフとは"
   ]
  },
  {
   "cell_type": "markdown",
   "metadata": {
    "slideshow": {
     "slide_type": "slide"
    }
   },
   "source": [
    "## 例題\n",
    "\n",
    "+ 太郎くんはスーパーで1個100円のリンゴを2個買いました。支払う金額を求めなさい。ただし、消費税が10%適用されるものとします。\n",
    "\n",
    "#### 通常の計算\n",
    "\n",
    "$$ \\left\\{ \\begin{array}{l} 100 × 2 = 200 \\\\ 200 × 1.10 = \\underline{220} \\end{array} \\right.$$\n",
    "\n",
    "#### 計算グラフによる計算\n",
    "<img src=\"./fig/calc_graph1.png\">"
   ]
  },
  {
   "cell_type": "markdown",
   "metadata": {
    "slideshow": {
     "slide_type": "slide"
    }
   },
   "source": [
    "## つまり計算グラフによる計算は・・・\n",
    "\n",
    "+ プログラミング言語の変数や関数をイメージすると良い\n",
    "    + ノード -> 変数や関数など\n",
    "    + エッジ -> 実際に乗っている値\n",
    "+ 問題を解く際には\n",
    "    + グラフを構築する(ノードやエッジ)\n",
    "    + グラフの計算を左から右へと進める"
   ]
  },
  {
   "cell_type": "markdown",
   "metadata": {
    "slideshow": {
     "slide_type": "slide"
    }
   },
   "source": [
    "# 計算グラフの利点"
   ]
  },
  {
   "cell_type": "markdown",
   "metadata": {
    "slideshow": {
     "slide_type": "slide"
    }
   },
   "source": [
    "## 計算グラフによる計算の利点\n",
    "\n",
    "+ 太郎君は「がちまい(食いしん坊)」なので、りんご以外にも美味しそうなものを片っ端から買っていきました。支払う金額を求めなさい。\n",
    "\n",
    "<img src=\"./fig/question2.png\" width=1000>"
   ]
  },
  {
   "cell_type": "markdown",
   "metadata": {
    "slideshow": {
     "slide_type": "subslide"
    }
   },
   "source": [
    "## 計算グラフによる計算の利点\n",
    "\n",
    "+ 上記のような複雑な計算であってもノードにつながるエッジだけ見れば計算ができるということです。\n",
    "\n",
    "<img src=\"./fig/question2-1.png\" width=1000>"
   ]
  },
  {
   "cell_type": "markdown",
   "metadata": {
    "slideshow": {
     "slide_type": "slide"
    }
   },
   "source": [
    "## 計算グラフによる計算の利点\n",
    "\n",
    "<br>\n",
    "#### 計算を並列化することができる\n",
    "\n",
    "+ 複雑な計算であっても局所的な計算を並列化できコンピュータにとって計算しやすくなる\n",
    "\n",
    "#### 様々な数値計算(主に微分)を求めることができる\n",
    "\n",
    "+ 事前に計算処理が最適化されて、高速に計算できるようになる"
   ]
  },
  {
   "cell_type": "markdown",
   "metadata": {
    "slideshow": {
     "slide_type": "slide"
    }
   },
   "source": [
    "## まとめ\n",
    "\n",
    "+ 我々が普段コンピュータにさせていた計算は実は計算グラフ的な考え方に基づいていた(⇠！？)\n",
    "+ 実はグラフを逆向きに計算するときにもっと便利である(むしろ本編)\n",
    "    + もっと深い話になると数学の知識やでぃーぷらーにんぐの知識がいるので今回はここまで  \n",
    "+ 久しぶりにアルゴリズムの基礎を復習した気がする\n",
    "    + 基礎固めって大事やね(哲学)"
   ]
  }
 ],
 "metadata": {
  "celltoolbar": "Slideshow",
  "kernelspec": {
   "display_name": "Python 3",
   "language": "python",
   "name": "python3"
  },
  "language_info": {
   "codemirror_mode": {
    "name": "ipython",
    "version": 3
   },
   "file_extension": ".py",
   "mimetype": "text/x-python",
   "name": "python",
   "nbconvert_exporter": "python",
   "pygments_lexer": "ipython3",
   "version": "3.6.4"
  }
 },
 "nbformat": 4,
 "nbformat_minor": 2
}
