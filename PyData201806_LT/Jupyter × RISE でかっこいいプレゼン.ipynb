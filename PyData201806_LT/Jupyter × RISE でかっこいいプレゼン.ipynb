{
 "cells": [
  {
   "cell_type": "markdown",
   "metadata": {
    "slideshow": {
     "slide_type": "slide"
    }
   },
   "source": [
    "# Jupyter × RISE でかっこいいプレゼン \n",
    "\n",
    "---\n",
    "\n",
    "### PyData.Okinawa \\#35 & PyBeginners沖縄 合同勉強会 <br> twitter ID:@Intel0tw5727"
   ]
  },
  {
   "cell_type": "markdown",
   "metadata": {
    "slideshow": {
     "slide_type": "slide"
    }
   },
   "source": [
    "## TL;DR\n",
    "---\n",
    "+ Jupyter NoteBook でつくるスライドは\n",
    "    + **ノートをまとめるだけで簡単にスライドになる**\n",
    "    + **Pythonがスライド上で実行できる**\n",
    "    + **カスタマイズが容易にできる**"
   ]
  },
  {
   "cell_type": "markdown",
   "metadata": {
    "slideshow": {
     "slide_type": "slide"
    }
   },
   "source": [
    "## こんなことありませんか？\n",
    "---"
   ]
  },
  {
   "cell_type": "markdown",
   "metadata": {
    "slideshow": {
     "slide_type": "fragment"
    }
   },
   "source": [
    "+ 分析コード完成したけど、プレゼン資料これからや・・・\n",
    "    + JupyterにMarkdownつかって丁寧にまとめたけど、これからPowerPointにまとめなければ・・・\n",
    "\n",
    "+ PowerPointたまに落ちるから勘弁\n",
    "    + MicroSoftさん頼むで・・・\n",
    "\n",
    "+ Marpとかで作れるけど、デザインこだわりたい・・・\n",
    "    + 誰もは一度は考えるオリジナルデザイン問題"
   ]
  },
  {
   "cell_type": "markdown",
   "metadata": {
    "slideshow": {
     "slide_type": "slide"
    }
   },
   "source": [
    "## そんなあなたに Jupyter × RISE\n",
    "---\n",
    "### メリット\n",
    "+ Jupyterでまとめた内容をそのままスライドに！\n",
    "+ スライドで発表しながらPythonセルを実行可能！\n",
    "+ 作成したスライドはhtmlファイルやpdfファイルにexport可能！\n",
    "+ pythonコードで簡単にデザインを変更(or cssをいじる)\n",
    "\n",
    "### デメリット\n",
    "+ 画像周りの配置になやむ(Markdown型スライドの欠点)"
   ]
  },
  {
   "cell_type": "markdown",
   "metadata": {
    "slideshow": {
     "slide_type": "slide"
    }
   },
   "source": [
    "## 突然の自己紹介\n",
    "---\n",
    "\n",
    "+ 琉球大学 工学部 情報工学科 4年次 (遠藤研)\n",
    "+ PythonBeginnners沖縄 Organizer\n",
    "+ PyData.Okinawa Organizer <- new!\n",
    "+ 情報工学科の自称スーパーPythonﾏﾝ\n",
    "+ 昨年8月からちゅらデータにバイト生としてjoin \n",
    "    + -> そろそろ1年"
   ]
  },
  {
   "cell_type": "markdown",
   "metadata": {
    "slideshow": {
     "slide_type": "slide"
    }
   },
   "source": [
    "# RISEの導入方法\n",
    "---"
   ]
  },
  {
   "cell_type": "code",
   "execution_count": null,
   "metadata": {
    "slideshow": {
     "slide_type": "fragment"
    }
   },
   "outputs": [],
   "source": [
    "!pip install RISE #小文字注意！\n",
    "!jupyter-nbextension install rise --py --sys-prefix\n",
    "!jupyter-nbextension enable rise --py --sys-prefix"
   ]
  },
  {
   "cell_type": "markdown",
   "metadata": {
    "slideshow": {
     "slide_type": "fragment"
    }
   },
   "source": [
    "### これだけ！超簡単！"
   ]
  },
  {
   "cell_type": "markdown",
   "metadata": {
    "slideshow": {
     "slide_type": "slide"
    }
   },
   "source": [
    "## スライド作成方法\n",
    "---\n",
    "+ Jupyterを立ち上げて、ノートブックから「View」→「Cell ToolBar」→「Slideshow」を選択\n",
    "+ セルのSlide Typeからスライドの種類を変更可能！\n",
    "<img src=\"./fig/setting.png\" width=1000>"
   ]
  },
  {
   "cell_type": "markdown",
   "metadata": {
    "slideshow": {
     "slide_type": "slide"
    }
   },
   "source": [
    "## スライド上でPythonが実行できる\n",
    "---"
   ]
  },
  {
   "cell_type": "code",
   "execution_count": 2,
   "metadata": {
    "slideshow": {
     "slide_type": "fragment"
    }
   },
   "outputs": [
    {
     "data": {
      "text/html": [
       "<div>\n",
       "<style scoped>\n",
       "    .dataframe tbody tr th:only-of-type {\n",
       "        vertical-align: middle;\n",
       "    }\n",
       "\n",
       "    .dataframe tbody tr th {\n",
       "        vertical-align: top;\n",
       "    }\n",
       "\n",
       "    .dataframe thead th {\n",
       "        text-align: right;\n",
       "    }\n",
       "</style>\n",
       "<table border=\"1\" class=\"dataframe\">\n",
       "  <thead>\n",
       "    <tr style=\"text-align: right;\">\n",
       "      <th></th>\n",
       "      <th>hoge0</th>\n",
       "      <th>hoge1</th>\n",
       "      <th>hoge2</th>\n",
       "      <th>hoge3</th>\n",
       "      <th>hoge4</th>\n",
       "      <th>hoge5</th>\n",
       "      <th>hoge6</th>\n",
       "      <th>hoge7</th>\n",
       "      <th>hoge8</th>\n",
       "      <th>hoge9</th>\n",
       "      <th>hoge10</th>\n",
       "      <th>hoge11</th>\n",
       "      <th>hoge12</th>\n",
       "      <th>hoge13</th>\n",
       "      <th>hoge14</th>\n",
       "      <th>hoge15</th>\n",
       "      <th>hoge16</th>\n",
       "      <th>hoge17</th>\n",
       "      <th>hoge18</th>\n",
       "      <th>hoge19</th>\n",
       "    </tr>\n",
       "  </thead>\n",
       "  <tbody>\n",
       "    <tr>\n",
       "      <th>0</th>\n",
       "      <td>7</td>\n",
       "      <td>5</td>\n",
       "      <td>3</td>\n",
       "      <td>5</td>\n",
       "      <td>1</td>\n",
       "      <td>2</td>\n",
       "      <td>3</td>\n",
       "      <td>4</td>\n",
       "      <td>4</td>\n",
       "      <td>6</td>\n",
       "      <td>3</td>\n",
       "      <td>7</td>\n",
       "      <td>2</td>\n",
       "      <td>2</td>\n",
       "      <td>7</td>\n",
       "      <td>6</td>\n",
       "      <td>7</td>\n",
       "      <td>4</td>\n",
       "      <td>6</td>\n",
       "      <td>9</td>\n",
       "    </tr>\n",
       "    <tr>\n",
       "      <th>1</th>\n",
       "      <td>4</td>\n",
       "      <td>4</td>\n",
       "      <td>5</td>\n",
       "      <td>10</td>\n",
       "      <td>10</td>\n",
       "      <td>10</td>\n",
       "      <td>6</td>\n",
       "      <td>1</td>\n",
       "      <td>1</td>\n",
       "      <td>9</td>\n",
       "      <td>3</td>\n",
       "      <td>9</td>\n",
       "      <td>2</td>\n",
       "      <td>2</td>\n",
       "      <td>3</td>\n",
       "      <td>2</td>\n",
       "      <td>8</td>\n",
       "      <td>4</td>\n",
       "      <td>5</td>\n",
       "      <td>5</td>\n",
       "    </tr>\n",
       "  </tbody>\n",
       "</table>\n",
       "</div>"
      ],
      "text/plain": [
       "   hoge0  hoge1  hoge2  hoge3  hoge4  hoge5  hoge6  hoge7  hoge8  hoge9  \\\n",
       "0      7      5      3      5      1      2      3      4      4      6   \n",
       "1      4      4      5     10     10     10      6      1      1      9   \n",
       "\n",
       "   hoge10  hoge11  hoge12  hoge13  hoge14  hoge15  hoge16  hoge17  hoge18  \\\n",
       "0       3       7       2       2       7       6       7       4       6   \n",
       "1       3       9       2       2       3       2       8       4       5   \n",
       "\n",
       "   hoge19  \n",
       "0       9  \n",
       "1       5  "
      ]
     },
     "execution_count": 2,
     "metadata": {},
     "output_type": "execute_result"
    }
   ],
   "source": [
    "# Pythonも実行できるんだよ\n",
    "import pandas as pd\n",
    "import random\n",
    "%matplotlib inline\n",
    "\n",
    "df = pd.DataFrame([[random.randint(1,10) for _ in range(20)], \n",
    "                   [random.randint(1,10) for _ in range(20)]])\n",
    "df.columns = [\"hoge{}\".format(_) for _ in range(20)]\n",
    "# pandasデータフレームもいける\n",
    "df"
   ]
  },
  {
   "cell_type": "code",
   "execution_count": 3,
   "metadata": {
    "slideshow": {
     "slide_type": "subslide"
    }
   },
   "outputs": [
    {
     "data": {
      "text/plain": [
       "Text(0.5,1,'hoge')"
      ]
     },
     "execution_count": 3,
     "metadata": {},
     "output_type": "execute_result"
    },
    {
     "data": {
      "image/png": "[encoded data removed]",
      "text/plain": [
       "<matplotlib.figure.Figure at 0x107a7b668>"
      ]
     },
     "metadata": {},
     "output_type": "display_data"
    }
   ],
   "source": [
    "# matplotlibのグラフも表示してくれる\n",
    "df.T.plot(legend=None).set_title(\"hoge\")"
   ]
  },
  {
   "cell_type": "markdown",
   "metadata": {
    "slideshow": {
     "slide_type": "slide"
    }
   },
   "source": [
    "## Pythonで簡単カスタマイズ\n",
    "---\n",
    "「$HOME/.jupyter/nbconfig/rise.json」をいじることで簡単にデザインを変更できる"
   ]
  },
  {
   "cell_type": "code",
   "execution_count": 4,
   "metadata": {
    "slideshow": {
     "slide_type": "fragment"
    }
   },
   "outputs": [
    {
     "data": {
      "text/plain": [
       "{'backimage': './fig/kuroneko_icon2_1280.png'}"
      ]
     },
     "execution_count": 4,
     "metadata": {},
     "output_type": "execute_result"
    }
   ],
   "source": [
    "# Python上からrise.jsonを変更可\n",
    "# ※ただしjupyter 再起動必須\n",
    "\n",
    "from traitlets.config.manager import BaseJSONConfigManager\n",
    "from pathlib import Path\n",
    "path = Path.home() / \".jupyter\" / \"nbconfig\"\n",
    "cm = BaseJSONConfigManager(config_dir=str(path))\n",
    "cm.update(\n",
    "    \"rise\",\n",
    "    {\n",
    "        \"backimage\": \"./fig/kuroneko_icon2_1280.png\",\n",
    "     }\n",
    ")"
   ]
  },
  {
   "cell_type": "markdown",
   "metadata": {
    "slideshow": {
     "slide_type": "slide"
    }
   },
   "source": [
    "## 応用：更に凝ったカスタマイズ\n",
    "---\n",
    "cssを直接いじって読み込むことでもカスタマイズが可能！\n",
    "> https://github.com/Intel0tw5727/jupyter_customize\n",
    "\n",
    "+ ※こっちはjupyterを再起動せずとも適応できる。ただしcssファイルをノートのたびに読み込む必要あり。"
   ]
  },
  {
   "cell_type": "code",
   "execution_count": null,
   "metadata": {
    "slideshow": {
     "slide_type": "fragment"
    }
   },
   "outputs": [],
   "source": [
    "%%html\n",
    "<link rel=\"stylesheet\" type=\"text/css\" href=\"./slide_template_seablue.css\">"
   ]
  },
  {
   "cell_type": "markdown",
   "metadata": {
    "slideshow": {
     "slide_type": "slide"
    }
   },
   "source": [
    "## まとめ\n",
    "---\n",
    "+ Jupyter × RISE で簡単かっこいいスライドが作れる！\n",
    "+ スライド作成の手間が省けるので、jupyterの資料を整えることだけに専念できる！\n",
    "+ LT発表もお手の物なので、jupyterで作業をしたらぜひLT発表へ！"
   ]
  },
  {
   "cell_type": "markdown",
   "metadata": {
    "slideshow": {
     "slide_type": "fragment"
    }
   },
   "source": [
    "+ はぁ・・・五更瑠璃ちゃん・・・好き💕"
   ]
  }
 ],
 "metadata": {
  "celltoolbar": "Slideshow",
  "kernelspec": {
   "display_name": "Python 3",
   "language": "python",
   "name": "python3"
  },
  "language_info": {
   "codemirror_mode": {
    "name": "ipython",
    "version": 3
   },
   "file_extension": ".py",
   "mimetype": "text/x-python",
   "name": "python",
   "nbconvert_exporter": "python",
   "pygments_lexer": "ipython3",
   "version": "3.6.4"
  }
 },
 "nbformat": 4,
 "nbformat_minor": 2
}
