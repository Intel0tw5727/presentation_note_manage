{
 "cells": [
  {
   "cell_type": "markdown",
   "metadata": {
    "slideshow": {
     "slide_type": "slide"
    }
   },
   "source": [
    "# Tensorflowで大規模なデータを用いた<br>多クラス分類問題を解くための工夫 <br><br> @Intel0tw5727"
   ]
  },
  {
   "cell_type": "markdown",
   "metadata": {
    "slideshow": {
     "slide_type": "slide"
    }
   },
   "source": [
    "## TL;DR\n",
    "---\n",
    "+ 約3000クラスの画像を分類するモデルを~~構築しました~~OCに向けて構築中\n",
    "+ データが大きすぎる問題を様々な方面から解決するために\n",
    "    + 画像処理アプローチ\n",
    "        + -> サイズをできる限り落としていこう\n",
    "    + メモリ管理アプローチ \n",
    "        + -> 不要なデータはメモリから削除していこう\n",
    "    + モジュールによるアプローチ \n",
    "        + -> fit_generator をつかっていこう"
   ]
  },
  {
   "cell_type": "markdown",
   "metadata": {
    "slideshow": {
     "slide_type": "slide"
    }
   },
   "source": [
    "## 謝罪\n",
    "---\n",
    "+ 解説はわかりやすくしていますが、もし間違っていたらぜひマサカリ片手にコメント待ってます\n",
    "+ 今回のイベントは「Tensorflow-usergroup Okinawa」ですが、これから先、紹介するコードはほぼ *Keras* が中心になっております\n",
    "+ backend が「 *Tensorflow* 」になっていますのでお許しを"
   ]
  },
  {
   "cell_type": "code",
   "execution_count": 2,
   "metadata": {
    "slideshow": {
     "slide_type": "fragment"
    }
   },
   "outputs": [
    {
     "data": {
      "text/plain": [
       "'tensorflow'"
      ]
     },
     "execution_count": 2,
     "metadata": {},
     "output_type": "execute_result"
    }
   ],
   "source": [
    "# 証明\n",
    "from keras import backend as K\n",
    "\n",
    "# 証明完了 -> Q.E.D\n",
    "K._BACKEND"
   ]
  },
  {
   "cell_type": "markdown",
   "metadata": {
    "slideshow": {
     "slide_type": "slide"
    }
   },
   "source": [
    "## 自己紹介\n",
    "\n",
    "+ 多和田真悟(@Intel0tw5727)\n",
    "    + 琉球大学 工学部 情報工学科 4年次 遠藤研所属\n",
    "    + PythonBeginners沖縄 共同オーガナイザー\n",
    "    + PyData.Okinawa 共同オーガナイザー <- New!(2018/04)\n",
    "    + ちゅらデータ株式会社 長期インターン生\n",
    "        + 来月で設立一周年になります🎉\n",
    "+ 最近の悩み\n",
    "    + 白米🍚が美味しすぎて腹334分目まで食べてしまうこと"
   ]
  },
  {
   "cell_type": "markdown",
   "metadata": {
    "slideshow": {
     "slide_type": "slide"
    }
   },
   "source": [
    "## 今回扱った分類問題\n",
    "\n",
    "+ ETL手書き文字データベースの第一水準漢字 + ひらがな\n",
    "    + 3036文字（JIS第１水準漢字：2965，ひらがな：71）\n",
    "<img src=\"./fig/etl.png\" width=1000>"
   ]
  },
  {
   "cell_type": "markdown",
   "metadata": {
    "slideshow": {
     "slide_type": "slide"
    }
   },
   "source": [
    "## 今回扱った分類問題\n",
    "+ 3036文字の画像を分類する多クラス問題\n",
    "    + データが大きすぎる\n",
    "        + 64×63のRGB画像 × 3026文字 × 約20人分\n",
    "    + 各ラベルごとのデータが足りない\n",
    "        + 1ラベル20枚前後では学習に苦しさがある\n",
    "        \n",
    "    <img src=\"./fig/etl_example.png\">"
   ]
  },
  {
   "cell_type": "markdown",
   "metadata": {
    "slideshow": {
     "slide_type": "slide"
    }
   },
   "source": [
    "## 要約\n",
    "\n",
    "# データを増やしたい！<br>メモリにのせたい！"
   ]
  },
  {
   "cell_type": "markdown",
   "metadata": {
    "slideshow": {
     "slide_type": "slide"
    }
   },
   "source": [
    "# 画像処理によるアプローチ"
   ]
  },
  {
   "cell_type": "markdown",
   "metadata": {
    "slideshow": {
     "slide_type": "slide"
    }
   },
   "source": [
    "## 画像処理によるアプローチ\n",
    "+ 今回の問題は白黒画像\n",
    "    + なのに元データはRGB画像なのでまずはGRAY画像に変換\n",
    "    + 64\\*63 の画像データを28\\*28まで削減\n",
    "    + PythonならOpenCVでできる(PILはﾁｮｯﾄﾜｶﾝﾅｲ)"
   ]
  },
  {
   "cell_type": "code",
   "execution_count": null,
   "metadata": {
    "slideshow": {
     "slide_type": "fragment"
    }
   },
   "outputs": [],
   "source": [
    "# 例\n",
    "img_prop_list = []\n",
    "for img in img_list:\n",
    "    img_prop = cv2.cvtColor(img, cv2.COLOR_BGR2GRAY) # グレースケール化\n",
    "    blur = cv2.GaussianBlur(gray_img,(5,5),0) # ガウシアンフィルタで平滑化\n",
    "    _, img_prop = cv2.threshold(img_prop,0,255,cv2.THRESH_BINARY+cv2.THRESH_OTSU) # 大津法で2値化\n",
    "    img_prop_list.append(cv2.resize(img_prop, (width, height)).astype(\"float32\") / 255.0) # サイズを削減して正規化"
   ]
  },
  {
   "cell_type": "markdown",
   "metadata": {
    "slideshow": {
     "slide_type": "slide"
    }
   },
   "source": [
    "# メモリ管理アプローチ"
   ]
  },
  {
   "cell_type": "markdown",
   "metadata": {
    "slideshow": {
     "slide_type": "slide"
    }
   },
   "source": [
    "## メモリ管理アプローチ\n",
    "+ 普段は気にしていない変数に格納したデータも大規模となると注意が必要\n",
    "+ 使わない変数はバシバシ消していこう\n",
    "    + 「del 変数」でメモリを開放できるのでおすすめ\n",
    "+ 変数のサイズはsysの中のgetsizeof関数で確認できます"
   ]
  },
  {
   "cell_type": "code",
   "execution_count": 3,
   "metadata": {
    "slideshow": {
     "slide_type": "fragment"
    }
   },
   "outputs": [],
   "source": [
    "import sys\n",
    "a = [_ for i in range(10000000)]"
   ]
  },
  {
   "cell_type": "code",
   "execution_count": 4,
   "metadata": {
    "slideshow": {
     "slide_type": "fragment"
    }
   },
   "outputs": [
    {
     "data": {
      "text/plain": [
       "81528056"
      ]
     },
     "execution_count": 4,
     "metadata": {},
     "output_type": "execute_result"
    }
   ],
   "source": [
    "sys.getsizeof(a)"
   ]
  },
  {
   "cell_type": "markdown",
   "metadata": {
    "slideshow": {
     "slide_type": "slide"
    }
   },
   "source": [
    "# モジュールによるアプローチ"
   ]
  },
  {
   "cell_type": "markdown",
   "metadata": {
    "slideshow": {
     "slide_type": "slide"
    }
   },
   "source": [
    "## モジュールによるアプローチ\n",
    "\n",
    "+ 学習するタイミングですべての訓練データを読み込ませたくない\n",
    "    + fit_generatorを使うことで訓練データをミニバッチにしてepochごとに動的にデータを読み込むことでメモリを圧迫させない\n",
    "    + (Tensorflowも、tensorflow.keras.model下にfit_generatorがある)"
   ]
  },
  {
   "cell_type": "code",
   "execution_count": null,
   "metadata": {
    "slideshow": {
     "slide_type": "fragment"
    }
   },
   "outputs": [],
   "source": [
    "# 例\n",
    "model.fit_generator(datagen.flow(X_train, Y_train,\n",
    "                                batch_size=256),\n",
    "                                steps_per_epoch=len(X_train) / 241,\n",
    "                                epochs=1000,\n",
    "                                verbose=1,\n",
    "                                validation_data = (X_test, Y_test),\n",
    "                                workers=4)"
   ]
  },
  {
   "cell_type": "markdown",
   "metadata": {
    "slideshow": {
     "slide_type": "slide"
    }
   },
   "source": [
    "## datagen.flowってなんだこいつ？"
   ]
  },
  {
   "cell_type": "code",
   "execution_count": null,
   "metadata": {
    "slideshow": {
     "slide_type": "fragment"
    }
   },
   "outputs": [],
   "source": [
    "# 例\n",
    "model.fit_generator(datagen.flow(X_train, Y_train,\n",
    "                                batch_size=256),\n",
    "                                steps_per_epoch=len(X_train) / 241,\n",
    "                                epochs=1000,\n",
    "                                verbose=1,\n",
    "                                validation_data = (X_test, Y_test),\n",
    "                                workers=4)"
   ]
  },
  {
   "cell_type": "markdown",
   "metadata": {
    "slideshow": {
     "slide_type": "subslide"
    }
   },
   "source": [
    "## datagen.flowとは ImageDataGenerator のことだったのだ\n",
    "+ kerasモジュールの中にあるこのクラスは訓練やテストに使うデータのかさ増し(Augmentation)を簡単に行い、データをそのままfit_generatorに投げられる優れもの"
   ]
  },
  {
   "cell_type": "code",
   "execution_count": null,
   "metadata": {
    "slideshow": {
     "slide_type": "fragment"
    }
   },
   "outputs": [],
   "source": [
    "# 例\n",
    "from keras.preprocessing.image import ImageDataGenerator\n",
    "\n",
    "datagen = ImageDataGenerator(\n",
    "        rotation_range=5, # 画像の回転幅\n",
    "        width_shift_range=0.1, # 画像のシフトできる割合\n",
    "        height_shift_range=0.1,\n",
    "        shear_range=0.,\n",
    "        zoom_range=0.1,\n",
    "        fill_mode='nearest',\n",
    "        rescale=None,\n",
    "        preprocessing_function=None,\n",
    "        data_format=\"channels_last\",\n",
    "        validation_split=0.2)"
   ]
  },
  {
   "cell_type": "markdown",
   "metadata": {
    "slideshow": {
     "slide_type": "slide"
    }
   },
   "source": [
    "##  fit_generator + ImageDataGeneratorで改善\n",
    "\n",
    "<img src=\"./fig/bf.png\" width=1200>"
   ]
  },
  {
   "cell_type": "markdown",
   "metadata": {
    "slideshow": {
     "slide_type": "slide"
    }
   },
   "source": [
    "## 3つのアプローチで改善\n",
    "+ 改善前\n",
    "<img src=\"./fig/before.png\">\n",
    "\n",
    "+ 改善後\n",
    "<img src=\"./fig/after.png\">"
   ]
  },
  {
   "cell_type": "markdown",
   "metadata": {
    "slideshow": {
     "slide_type": "slide"
    }
   },
   "source": [
    "# まとめ\n",
    "+ 画像の無駄な部分や使わない変数はガンガン削ぎ落としましょう\n",
    "+ fit_generator +αのアプローチだけでも大規模な学習を回すことができます\n",
    "    + ~~ただし学習が早く終わるとは言ってない~~\n",
    "+ ImageDataGeneratorに頼ればラベルごとのデータが少なくてもカバーできます\n",
    "    + ~~ただし学習が早く終わると(ry~~\n",
    "+ Tensorflow~~(Keras)~~は便利で素晴らしい！\n",
    "    + ~~ただし学習(ry~~"
   ]
  },
  {
   "cell_type": "markdown",
   "metadata": {
    "slideshow": {
     "slide_type": "slide"
    }
   },
   "source": [
    "# ご静聴ありがとうございました！"
   ]
  }
 ],
 "metadata": {
  "celltoolbar": "Slideshow",
  "kernelspec": {
   "display_name": "Python 3",
   "language": "python",
   "name": "python3"
  },
  "language_info": {
   "codemirror_mode": {
    "name": "ipython",
    "version": 3
   },
   "file_extension": ".py",
   "mimetype": "text/x-python",
   "name": "python",
   "nbconvert_exporter": "python",
   "pygments_lexer": "ipython3",
   "version": "3.6.4"
  }
 },
 "nbformat": 4,
 "nbformat_minor": 2
}
